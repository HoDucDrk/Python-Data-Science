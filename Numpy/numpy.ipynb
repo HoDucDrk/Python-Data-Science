{
    "cells": [
        {
            "cell_type": "code",
            "execution_count": 3,
            "source": [
                "#numpy basic "
            ],
            "outputs": [],
            "metadata": {}
        },
        {
            "cell_type": "code",
            "execution_count": 4,
            "source": [
                "#khai báo thư viện numpy\r\n",
                "import numpy as np"
            ],
            "outputs": [],
            "metadata": {}
        },
        {
            "cell_type": "code",
            "execution_count": 5,
            "source": [
                "my_arr = np.arange(100000)"
            ],
            "outputs": [],
            "metadata": {}
        },
        {
            "cell_type": "code",
            "execution_count": 6,
            "source": [
                "my_list = list(range(100000))"
            ],
            "outputs": [],
            "metadata": {}
        },
        {
            "cell_type": "code",
            "execution_count": 7,
            "source": [
                "%time for _ in range(10): my_arr2 = my_arr * 2"
            ],
            "outputs": [
                {
                    "output_type": "stream",
                    "name": "stdout",
                    "text": [
                        "Wall time: 2 ms\n"
                    ]
                }
            ],
            "metadata": {}
        },
        {
            "cell_type": "code",
            "execution_count": 8,
            "source": [
                "%time for _ in range(10): my_list2 = [x * 2 for x in my_list]"
            ],
            "outputs": [
                {
                    "output_type": "stream",
                    "name": "stdout",
                    "text": [
                        "Wall time: 249 ms\n"
                    ]
                }
            ],
            "metadata": {}
        },
        {
            "cell_type": "code",
            "execution_count": 9,
            "source": [
                "#The NumPy ndarray: Mảng đa chiều"
            ],
            "outputs": [],
            "metadata": {}
        },
        {
            "cell_type": "code",
            "execution_count": 10,
            "source": [
                "#Tạo một số dữ liệu ngẫu nhiên\r\n",
                "data = np.random.randn(2, 3)"
            ],
            "outputs": [],
            "metadata": {}
        },
        {
            "cell_type": "code",
            "execution_count": 11,
            "source": [
                "data"
            ],
            "outputs": [
                {
                    "output_type": "execute_result",
                    "data": {
                        "text/plain": [
                            "array([[ 1.71345478, -0.24265397, -1.65811581],\n",
                            "       [ 0.70874046, -0.40531548, -1.8146769 ]])"
                        ]
                    },
                    "metadata": {},
                    "execution_count": 11
                }
            ],
            "metadata": {}
        },
        {
            "cell_type": "code",
            "execution_count": 12,
            "source": [
                "#Phép toán với python"
            ],
            "outputs": [],
            "metadata": {}
        },
        {
            "cell_type": "code",
            "execution_count": 13,
            "source": [
                "data * 10"
            ],
            "outputs": [
                {
                    "output_type": "execute_result",
                    "data": {
                        "text/plain": [
                            "array([[ 17.13454782,  -2.42653965, -16.58115815],\n",
                            "       [  7.08740459,  -4.05315484, -18.14676904]])"
                        ]
                    },
                    "metadata": {},
                    "execution_count": 13
                }
            ],
            "metadata": {}
        },
        {
            "cell_type": "code",
            "execution_count": 14,
            "source": [
                "data + data"
            ],
            "outputs": [
                {
                    "output_type": "execute_result",
                    "data": {
                        "text/plain": [
                            "array([[ 3.42690956, -0.48530793, -3.31623163],\n",
                            "       [ 1.41748092, -0.81063097, -3.62935381]])"
                        ]
                    },
                    "metadata": {},
                    "execution_count": 14
                }
            ],
            "metadata": {}
        },
        {
            "cell_type": "code",
            "execution_count": 15,
            "source": [
                "#Hình dạng của dữ liệu\r\n",
                "data.shape"
            ],
            "outputs": [
                {
                    "output_type": "execute_result",
                    "data": {
                        "text/plain": [
                            "(2, 3)"
                        ]
                    },
                    "metadata": {},
                    "execution_count": 15
                }
            ],
            "metadata": {}
        },
        {
            "cell_type": "code",
            "execution_count": 16,
            "source": [
                "#kiểu của dữ liệu\r\n",
                "data.dtype"
            ],
            "outputs": [
                {
                    "output_type": "execute_result",
                    "data": {
                        "text/plain": [
                            "dtype('float64')"
                        ]
                    },
                    "metadata": {},
                    "execution_count": 16
                }
            ],
            "metadata": {}
        },
        {
            "cell_type": "code",
            "execution_count": 17,
            "source": [
                "#tạo ndarray"
            ],
            "outputs": [],
            "metadata": {}
        },
        {
            "cell_type": "code",
            "execution_count": 18,
            "source": [
                "data1 = [6, 6, 2, 3.2, 0, 1]"
            ],
            "outputs": [],
            "metadata": {}
        },
        {
            "cell_type": "code",
            "execution_count": 19,
            "source": [
                "arr1 = np.array(data1)\r\n",
                "arr1"
            ],
            "outputs": [
                {
                    "output_type": "execute_result",
                    "data": {
                        "text/plain": [
                            "array([6. , 6. , 2. , 3.2, 0. , 1. ])"
                        ]
                    },
                    "metadata": {},
                    "execution_count": 19
                }
            ],
            "metadata": {}
        },
        {
            "cell_type": "code",
            "execution_count": 20,
            "source": [
                "data2 = [[1, 2, 3, 4], [5, 6, 7, 8]]\r\n",
                "arr2 = np.array(data2)"
            ],
            "outputs": [],
            "metadata": {}
        },
        {
            "cell_type": "code",
            "execution_count": 21,
            "source": [
                "arr2"
            ],
            "outputs": [
                {
                    "output_type": "execute_result",
                    "data": {
                        "text/plain": [
                            "array([[1, 2, 3, 4],\n",
                            "       [5, 6, 7, 8]])"
                        ]
                    },
                    "metadata": {},
                    "execution_count": 21
                }
            ],
            "metadata": {}
        },
        {
            "cell_type": "code",
            "execution_count": 22,
            "source": [
                "arr2.ndim"
            ],
            "outputs": [
                {
                    "output_type": "execute_result",
                    "data": {
                        "text/plain": [
                            "2"
                        ]
                    },
                    "metadata": {},
                    "execution_count": 22
                }
            ],
            "metadata": {}
        },
        {
            "cell_type": "code",
            "execution_count": 23,
            "source": [
                "arr2.shape"
            ],
            "outputs": [
                {
                    "output_type": "execute_result",
                    "data": {
                        "text/plain": [
                            "(2, 4)"
                        ]
                    },
                    "metadata": {},
                    "execution_count": 23
                }
            ],
            "metadata": {}
        },
        {
            "cell_type": "code",
            "execution_count": 24,
            "source": [
                "arr1.dtype"
            ],
            "outputs": [
                {
                    "output_type": "execute_result",
                    "data": {
                        "text/plain": [
                            "dtype('float64')"
                        ]
                    },
                    "metadata": {},
                    "execution_count": 24
                }
            ],
            "metadata": {}
        },
        {
            "cell_type": "code",
            "execution_count": 25,
            "source": [
                "arr2.dtype"
            ],
            "outputs": [
                {
                    "output_type": "execute_result",
                    "data": {
                        "text/plain": [
                            "dtype('int32')"
                        ]
                    },
                    "metadata": {},
                    "execution_count": 25
                }
            ],
            "metadata": {}
        },
        {
            "cell_type": "code",
            "execution_count": 26,
            "source": [
                "np.zeros(10)"
            ],
            "outputs": [
                {
                    "output_type": "execute_result",
                    "data": {
                        "text/plain": [
                            "array([0., 0., 0., 0., 0., 0., 0., 0., 0., 0.])"
                        ]
                    },
                    "metadata": {},
                    "execution_count": 26
                }
            ],
            "metadata": {}
        },
        {
            "cell_type": "code",
            "execution_count": 27,
            "source": [
                "np.zeros((3, 6))"
            ],
            "outputs": [
                {
                    "output_type": "execute_result",
                    "data": {
                        "text/plain": [
                            "array([[0., 0., 0., 0., 0., 0.],\n",
                            "       [0., 0., 0., 0., 0., 0.],\n",
                            "       [0., 0., 0., 0., 0., 0.]])"
                        ]
                    },
                    "metadata": {},
                    "execution_count": 27
                }
            ],
            "metadata": {}
        },
        {
            "cell_type": "code",
            "execution_count": 28,
            "source": [
                "np.empty((2, 3, 2))"
            ],
            "outputs": [
                {
                    "output_type": "execute_result",
                    "data": {
                        "text/plain": [
                            "array([[[1.40067606e-311, 2.47032823e-322],\n",
                            "        [0.00000000e+000, 0.00000000e+000],\n",
                            "        [0.00000000e+000, 1.58817677e-052]],\n",
                            "\n",
                            "       [[5.59007241e-091, 2.82981745e-056],\n",
                            "        [2.36620153e+179, 3.11422360e-032],\n",
                            "        [3.99910963e+252, 4.93432906e+257]]])"
                        ]
                    },
                    "metadata": {},
                    "execution_count": 28
                }
            ],
            "metadata": {}
        },
        {
            "cell_type": "code",
            "execution_count": 29,
            "source": [
                "#np.empty có thể trả về giá trị rác chưa được khởi tạo"
            ],
            "outputs": [],
            "metadata": {}
        },
        {
            "cell_type": "code",
            "execution_count": 30,
            "source": [
                "import pandas as pd \r\n",
                "y_tbl = pd.read_csv(\"./data/test.csv\")\r\n",
                "y_tbl"
            ],
            "outputs": [
                {
                    "output_type": "execute_result",
                    "data": {
                        "text/plain": [
                            "            Function                                        Description\n",
                            "0              array  Convert input data (list, tuple, array, or oth...\n",
                            "1            asarray  Convert input to ndarray, but do not copy if t...\n",
                            "2             arange  Like the built-in range but returns an ndarray...\n",
                            "3    ones, ones_like  Produce an array of all 1s with the given shap...\n",
                            "4  zeros, zeros_like  Like ones and ones_like but producing arrays o...\n",
                            "5  empty, empty_like  Create new arrays by allocating new memory, bu...\n",
                            "6    full, full_like  Produce an array of the given shape and dtype ...\n",
                            "7      eye, identity  Create a square N × N identity matrix (1s on t..."
                        ],
                        "text/html": [
                            "<div>\n",
                            "<style scoped>\n",
                            "    .dataframe tbody tr th:only-of-type {\n",
                            "        vertical-align: middle;\n",
                            "    }\n",
                            "\n",
                            "    .dataframe tbody tr th {\n",
                            "        vertical-align: top;\n",
                            "    }\n",
                            "\n",
                            "    .dataframe thead th {\n",
                            "        text-align: right;\n",
                            "    }\n",
                            "</style>\n",
                            "<table border=\"1\" class=\"dataframe\">\n",
                            "  <thead>\n",
                            "    <tr style=\"text-align: right;\">\n",
                            "      <th></th>\n",
                            "      <th>Function</th>\n",
                            "      <th>Description</th>\n",
                            "    </tr>\n",
                            "  </thead>\n",
                            "  <tbody>\n",
                            "    <tr>\n",
                            "      <th>0</th>\n",
                            "      <td>array</td>\n",
                            "      <td>Convert input data (list, tuple, array, or oth...</td>\n",
                            "    </tr>\n",
                            "    <tr>\n",
                            "      <th>1</th>\n",
                            "      <td>asarray</td>\n",
                            "      <td>Convert input to ndarray, but do not copy if t...</td>\n",
                            "    </tr>\n",
                            "    <tr>\n",
                            "      <th>2</th>\n",
                            "      <td>arange</td>\n",
                            "      <td>Like the built-in range but returns an ndarray...</td>\n",
                            "    </tr>\n",
                            "    <tr>\n",
                            "      <th>3</th>\n",
                            "      <td>ones, ones_like</td>\n",
                            "      <td>Produce an array of all 1s with the given shap...</td>\n",
                            "    </tr>\n",
                            "    <tr>\n",
                            "      <th>4</th>\n",
                            "      <td>zeros, zeros_like</td>\n",
                            "      <td>Like ones and ones_like but producing arrays o...</td>\n",
                            "    </tr>\n",
                            "    <tr>\n",
                            "      <th>5</th>\n",
                            "      <td>empty, empty_like</td>\n",
                            "      <td>Create new arrays by allocating new memory, bu...</td>\n",
                            "    </tr>\n",
                            "    <tr>\n",
                            "      <th>6</th>\n",
                            "      <td>full, full_like</td>\n",
                            "      <td>Produce an array of the given shape and dtype ...</td>\n",
                            "    </tr>\n",
                            "    <tr>\n",
                            "      <th>7</th>\n",
                            "      <td>eye, identity</td>\n",
                            "      <td>Create a square N × N identity matrix (1s on t...</td>\n",
                            "    </tr>\n",
                            "  </tbody>\n",
                            "</table>\n",
                            "</div>"
                        ]
                    },
                    "metadata": {},
                    "execution_count": 30
                }
            ],
            "metadata": {}
        },
        {
            "cell_type": "markdown",
            "source": [
                "kiểu dữ liệu trong ndarrays"
            ],
            "metadata": {}
        },
        {
            "cell_type": "code",
            "execution_count": 31,
            "source": [
                "arr1 = np.array([1, 2, 3], dtype=np.float64)"
            ],
            "outputs": [],
            "metadata": {}
        },
        {
            "cell_type": "code",
            "execution_count": 32,
            "source": [
                "arr2 = np.array([1, 2, 3], dtype=np.int32)"
            ],
            "outputs": [],
            "metadata": {}
        },
        {
            "cell_type": "code",
            "execution_count": 33,
            "source": [
                "arr1.dtype"
            ],
            "outputs": [
                {
                    "output_type": "execute_result",
                    "data": {
                        "text/plain": [
                            "dtype('float64')"
                        ]
                    },
                    "metadata": {},
                    "execution_count": 33
                }
            ],
            "metadata": {}
        },
        {
            "cell_type": "code",
            "execution_count": 34,
            "source": [
                "arr2.dtype"
            ],
            "outputs": [
                {
                    "output_type": "execute_result",
                    "data": {
                        "text/plain": [
                            "dtype('int32')"
                        ]
                    },
                    "metadata": {},
                    "execution_count": 34
                }
            ],
            "metadata": {}
        },
        {
            "cell_type": "code",
            "execution_count": 35,
            "source": [
                "dtype_tbl = pd.read_csv(\"./data/Numpy_data_types.csv\")\r\n",
                "dtype_tbl"
            ],
            "outputs": [
                {
                    "output_type": "execute_result",
                    "data": {
                        "text/plain": [
                            "              Type  Type code  \\\n",
                            "0    int16, uint16    i2, u2    \n",
                            "1   int32, uint32      i4, u4   \n",
                            "2   int64, uint64      i8, u8   \n",
                            "3      int8, uint8     i1, u1   \n",
                            "4          float16         f2   \n",
                            "5          float32    f4 or f   \n",
                            "6          float64    f8 or d   \n",
                            "7         float128   f16 or g   \n",
                            "8        complex64         c8   \n",
                            "9       complex128        c16   \n",
                            "10      complex256        c32   \n",
                            "11            bool          ?   \n",
                            "12          object          O   \n",
                            "13         string_          S   \n",
                            "14        unicode_          U   \n",
                            "\n",
                            "                                          Description  \n",
                            "0      Các kiểu số nguyên 16 bit có dấu và không dấu   \n",
                            "1       Các kiểu số nguyên 32bit có dấu và không dấu   \n",
                            "2       Các kiểu số nguyên 64bit có dấu và không dấu   \n",
                            "3   Các kiểu số nguyên 8 bit (1 byte) có dấu và kh...  \n",
                            "4                         Dấu chấm động nửa chính xác  \n",
                            "5   Dấu phẩy động chính xác đơn tiêu chuẩn; tương ...  \n",
                            "6   Dấu phẩy động chính xác kép tiêu chuẩn; tương ...  \n",
                            "7                     Dấu chấm động chính xác mở rộng  \n",
                            "8   Các số phức được biểu thị bằng hai số nổi 32, ...  \n",
                            "9                                                 NaN  \n",
                            "10                                                NaN  \n",
                            "11       Kiểu boolean lưu trữ các giá trị Đúng và Sai  \n",
                            "12  Kiểu đối tượng Python; một giá trị có thể là b...  \n",
                            "13  Kiểu chuỗi ASCII có độ dài cố định (1 byte cho...  \n",
                            "14  Loại Unicode có độ dài cố định (số byte dành r...  "
                        ],
                        "text/html": [
                            "<div>\n",
                            "<style scoped>\n",
                            "    .dataframe tbody tr th:only-of-type {\n",
                            "        vertical-align: middle;\n",
                            "    }\n",
                            "\n",
                            "    .dataframe tbody tr th {\n",
                            "        vertical-align: top;\n",
                            "    }\n",
                            "\n",
                            "    .dataframe thead th {\n",
                            "        text-align: right;\n",
                            "    }\n",
                            "</style>\n",
                            "<table border=\"1\" class=\"dataframe\">\n",
                            "  <thead>\n",
                            "    <tr style=\"text-align: right;\">\n",
                            "      <th></th>\n",
                            "      <th>Type</th>\n",
                            "      <th>Type code</th>\n",
                            "      <th>Description</th>\n",
                            "    </tr>\n",
                            "  </thead>\n",
                            "  <tbody>\n",
                            "    <tr>\n",
                            "      <th>0</th>\n",
                            "      <td>int16, uint16</td>\n",
                            "      <td>i2, u2</td>\n",
                            "      <td>Các kiểu số nguyên 16 bit có dấu và không dấu</td>\n",
                            "    </tr>\n",
                            "    <tr>\n",
                            "      <th>1</th>\n",
                            "      <td>int32, uint32</td>\n",
                            "      <td>i4, u4</td>\n",
                            "      <td>Các kiểu số nguyên 32bit có dấu và không dấu</td>\n",
                            "    </tr>\n",
                            "    <tr>\n",
                            "      <th>2</th>\n",
                            "      <td>int64, uint64</td>\n",
                            "      <td>i8, u8</td>\n",
                            "      <td>Các kiểu số nguyên 64bit có dấu và không dấu</td>\n",
                            "    </tr>\n",
                            "    <tr>\n",
                            "      <th>3</th>\n",
                            "      <td>int8, uint8</td>\n",
                            "      <td>i1, u1</td>\n",
                            "      <td>Các kiểu số nguyên 8 bit (1 byte) có dấu và kh...</td>\n",
                            "    </tr>\n",
                            "    <tr>\n",
                            "      <th>4</th>\n",
                            "      <td>float16</td>\n",
                            "      <td>f2</td>\n",
                            "      <td>Dấu chấm động nửa chính xác</td>\n",
                            "    </tr>\n",
                            "    <tr>\n",
                            "      <th>5</th>\n",
                            "      <td>float32</td>\n",
                            "      <td>f4 or f</td>\n",
                            "      <td>Dấu phẩy động chính xác đơn tiêu chuẩn; tương ...</td>\n",
                            "    </tr>\n",
                            "    <tr>\n",
                            "      <th>6</th>\n",
                            "      <td>float64</td>\n",
                            "      <td>f8 or d</td>\n",
                            "      <td>Dấu phẩy động chính xác kép tiêu chuẩn; tương ...</td>\n",
                            "    </tr>\n",
                            "    <tr>\n",
                            "      <th>7</th>\n",
                            "      <td>float128</td>\n",
                            "      <td>f16 or g</td>\n",
                            "      <td>Dấu chấm động chính xác mở rộng</td>\n",
                            "    </tr>\n",
                            "    <tr>\n",
                            "      <th>8</th>\n",
                            "      <td>complex64</td>\n",
                            "      <td>c8</td>\n",
                            "      <td>Các số phức được biểu thị bằng hai số nổi 32, ...</td>\n",
                            "    </tr>\n",
                            "    <tr>\n",
                            "      <th>9</th>\n",
                            "      <td>complex128</td>\n",
                            "      <td>c16</td>\n",
                            "      <td>NaN</td>\n",
                            "    </tr>\n",
                            "    <tr>\n",
                            "      <th>10</th>\n",
                            "      <td>complex256</td>\n",
                            "      <td>c32</td>\n",
                            "      <td>NaN</td>\n",
                            "    </tr>\n",
                            "    <tr>\n",
                            "      <th>11</th>\n",
                            "      <td>bool</td>\n",
                            "      <td>?</td>\n",
                            "      <td>Kiểu boolean lưu trữ các giá trị Đúng và Sai</td>\n",
                            "    </tr>\n",
                            "    <tr>\n",
                            "      <th>12</th>\n",
                            "      <td>object</td>\n",
                            "      <td>O</td>\n",
                            "      <td>Kiểu đối tượng Python; một giá trị có thể là b...</td>\n",
                            "    </tr>\n",
                            "    <tr>\n",
                            "      <th>13</th>\n",
                            "      <td>string_</td>\n",
                            "      <td>S</td>\n",
                            "      <td>Kiểu chuỗi ASCII có độ dài cố định (1 byte cho...</td>\n",
                            "    </tr>\n",
                            "    <tr>\n",
                            "      <th>14</th>\n",
                            "      <td>unicode_</td>\n",
                            "      <td>U</td>\n",
                            "      <td>Loại Unicode có độ dài cố định (số byte dành r...</td>\n",
                            "    </tr>\n",
                            "  </tbody>\n",
                            "</table>\n",
                            "</div>"
                        ]
                    },
                    "metadata": {},
                    "execution_count": 35
                }
            ],
            "metadata": {}
        },
        {
            "cell_type": "code",
            "execution_count": 36,
            "source": [
                "df = pd.DataFrame(dtype_tbl)\r\n",
                "\r\n",
                "# chọn dòng theo label\r\n",
                "d = df.loc[12][2]\r\n",
                "\r\n",
                "print(d)"
            ],
            "outputs": [
                {
                    "output_type": "stream",
                    "name": "stdout",
                    "text": [
                        "Kiểu đối tượng Python; một giá trị có thể là bất kỳ đối tượng Python nào\n"
                    ]
                }
            ],
            "metadata": {}
        },
        {
            "cell_type": "markdown",
            "source": [
                "chuyển đổi kiểu dữ liệu"
            ],
            "metadata": {}
        },
        {
            "cell_type": "code",
            "execution_count": 37,
            "source": [
                "arr = np.array([1, 2, 3, 4, 5])"
            ],
            "outputs": [],
            "metadata": {}
        },
        {
            "cell_type": "code",
            "execution_count": 38,
            "source": [
                "arr.dtype"
            ],
            "outputs": [
                {
                    "output_type": "execute_result",
                    "data": {
                        "text/plain": [
                            "dtype('int32')"
                        ]
                    },
                    "metadata": {},
                    "execution_count": 38
                }
            ],
            "metadata": {}
        },
        {
            "cell_type": "code",
            "execution_count": 39,
            "source": [
                "float_arr = arr.astype(np.float64)"
            ],
            "outputs": [],
            "metadata": {}
        },
        {
            "cell_type": "code",
            "execution_count": 40,
            "source": [
                "float_arr.dtype"
            ],
            "outputs": [
                {
                    "output_type": "execute_result",
                    "data": {
                        "text/plain": [
                            "dtype('float64')"
                        ]
                    },
                    "metadata": {},
                    "execution_count": 40
                }
            ],
            "metadata": {}
        },
        {
            "cell_type": "markdown",
            "source": [
                "đổi floating sang int"
            ],
            "metadata": {}
        },
        {
            "cell_type": "code",
            "execution_count": 41,
            "source": [
                "arr = np.array([3.123, -1,2, 4.5, -2.3, 1.00])"
            ],
            "outputs": [],
            "metadata": {}
        },
        {
            "cell_type": "code",
            "execution_count": 42,
            "source": [
                "arr"
            ],
            "outputs": [
                {
                    "output_type": "execute_result",
                    "data": {
                        "text/plain": [
                            "array([ 3.123, -1.   ,  2.   ,  4.5  , -2.3  ,  1.   ])"
                        ]
                    },
                    "metadata": {},
                    "execution_count": 42
                }
            ],
            "metadata": {}
        },
        {
            "cell_type": "code",
            "execution_count": 43,
            "source": [
                "d = arr.astype(np.int32)"
            ],
            "outputs": [],
            "metadata": {}
        },
        {
            "cell_type": "code",
            "execution_count": 44,
            "source": [
                "d"
            ],
            "outputs": [
                {
                    "output_type": "execute_result",
                    "data": {
                        "text/plain": [
                            "array([ 3, -1,  2,  4, -2,  1])"
                        ]
                    },
                    "metadata": {},
                    "execution_count": 44
                }
            ],
            "metadata": {}
        },
        {
            "cell_type": "markdown",
            "source": [
                "bạn có thế sử dụng thuộc tính dtype của mảng này cho mảng khác"
            ],
            "metadata": {}
        },
        {
            "cell_type": "code",
            "execution_count": 47,
            "source": [
                "int_array = np.arange(10)"
            ],
            "outputs": [],
            "metadata": {}
        },
        {
            "cell_type": "code",
            "execution_count": 48,
            "source": [
                "calibers = np.array([.22, .270, .357, .380, .44], dtype=np.float64)"
            ],
            "outputs": [],
            "metadata": {}
        },
        {
            "cell_type": "code",
            "execution_count": 50,
            "source": [
                "int_array.astype(calibers.dtype)"
            ],
            "outputs": [
                {
                    "output_type": "execute_result",
                    "data": {
                        "text/plain": [
                            "array([0., 1., 2., 3., 4., 5., 6., 7., 8., 9.])"
                        ]
                    },
                    "metadata": {},
                    "execution_count": 50
                }
            ],
            "metadata": {}
        },
        {
            "cell_type": "markdown",
            "source": [
                "Việc gọi astype luôn tạo ra một mảng mới (bản sao của dữ liệu), ngay cả khi kiểu mới giống với kiểu cũ.\r\n"
            ],
            "metadata": {}
        },
        {
            "cell_type": "markdown",
            "source": [
                "Số học với Numpy Array"
            ],
            "metadata": {}
        },
        {
            "cell_type": "code",
            "execution_count": 51,
            "source": [
                "arr = np.array([[1. ,2. ,3. ], [4. ,5. ,6. ]])"
            ],
            "outputs": [],
            "metadata": {}
        },
        {
            "cell_type": "code",
            "execution_count": 52,
            "source": [
                "arr"
            ],
            "outputs": [
                {
                    "output_type": "execute_result",
                    "data": {
                        "text/plain": [
                            "array([[1., 2., 3.],\n",
                            "       [4., 5., 6.]])"
                        ]
                    },
                    "metadata": {},
                    "execution_count": 52
                }
            ],
            "metadata": {}
        },
        {
            "cell_type": "code",
            "execution_count": 53,
            "source": [
                "arr * arr"
            ],
            "outputs": [
                {
                    "output_type": "execute_result",
                    "data": {
                        "text/plain": [
                            "array([[ 1.,  4.,  9.],\n",
                            "       [16., 25., 36.]])"
                        ]
                    },
                    "metadata": {},
                    "execution_count": 53
                }
            ],
            "metadata": {}
        },
        {
            "cell_type": "code",
            "execution_count": 54,
            "source": [
                "arr - arr"
            ],
            "outputs": [
                {
                    "output_type": "execute_result",
                    "data": {
                        "text/plain": [
                            "array([[0., 0., 0.],\n",
                            "       [0., 0., 0.]])"
                        ]
                    },
                    "metadata": {},
                    "execution_count": 54
                }
            ],
            "metadata": {}
        },
        {
            "cell_type": "markdown",
            "source": [
                "Các phép toán số học với vô hướng truyền đối số vô hướng đến từng phần tử trong mảng"
            ],
            "metadata": {}
        },
        {
            "cell_type": "code",
            "execution_count": 55,
            "source": [
                "1 / arr"
            ],
            "outputs": [
                {
                    "output_type": "execute_result",
                    "data": {
                        "text/plain": [
                            "array([[1.        , 0.5       , 0.33333333],\n",
                            "       [0.25      , 0.2       , 0.16666667]])"
                        ]
                    },
                    "metadata": {},
                    "execution_count": 55
                }
            ],
            "metadata": {}
        },
        {
            "cell_type": "code",
            "execution_count": 56,
            "source": [
                "arr ** 0.5"
            ],
            "outputs": [
                {
                    "output_type": "execute_result",
                    "data": {
                        "text/plain": [
                            "array([[1.        , 1.41421356, 1.73205081],\n",
                            "       [2.        , 2.23606798, 2.44948974]])"
                        ]
                    },
                    "metadata": {},
                    "execution_count": 56
                }
            ],
            "metadata": {}
        },
        {
            "cell_type": "markdown",
            "source": [
                "So sánh giữa các mảng có cùng kích thước mang lại các mảng boolean:"
            ],
            "metadata": {}
        },
        {
            "cell_type": "code",
            "execution_count": 59,
            "source": [
                "arr2 = np.array([[1. , 3., 9.],[2. , 4. , 8.]])"
            ],
            "outputs": [],
            "metadata": {}
        },
        {
            "cell_type": "code",
            "execution_count": 60,
            "source": [
                "arr2 > arr"
            ],
            "outputs": [
                {
                    "output_type": "execute_result",
                    "data": {
                        "text/plain": [
                            "array([[False,  True,  True],\n",
                            "       [False, False,  True]])"
                        ]
                    },
                    "metadata": {},
                    "execution_count": 60
                }
            ],
            "metadata": {}
        },
        {
            "cell_type": "code",
            "execution_count": null,
            "source": [],
            "outputs": [],
            "metadata": {}
        }
    ],
    "metadata": {
        "orig_nbformat": 4,
        "language_info": {
            "name": "python",
            "version": "3.8.8",
            "mimetype": "text/x-python",
            "codemirror_mode": {
                "name": "ipython",
                "version": 3
            },
            "pygments_lexer": "ipython3",
            "nbconvert_exporter": "python",
            "file_extension": ".py"
        },
        "kernelspec": {
            "name": "python3",
            "display_name": "Python 3.8.8 64-bit ('base': conda)"
        },
        "interpreter": {
            "hash": "1e4665b4a9e7d2abe72c0a6f6252b8111ce0fc94853c6546d0ec98578145a517"
        }
    },
    "nbformat": 4,
    "nbformat_minor": 2
}