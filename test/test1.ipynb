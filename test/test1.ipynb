{
    "cells": [
        {
            "cell_type": "code",
            "execution_count": 8,
            "source": [
                "print(\"Hello World!\")"
            ],
            "outputs": [
                {
                    "output_type": "stream",
                    "name": "stdout",
                    "text": [
                        "Hello World!\n"
                    ]
                }
            ],
            "metadata": {}
        }
    ],
    "metadata": {
        "orig_nbformat": 4,
        "language_info": {
            "name": "python",
            "version": "3.8.8",
            "mimetype": "text/x-python",
            "codemirror_mode": {
                "name": "ipython",
                "version": 3
            },
            "pygments_lexer": "ipython3",
            "nbconvert_exporter": "python",
            "file_extension": ".py"
        },
        "kernelspec": {
            "name": "python3",
            "display_name": "Python 3.8.8 64-bit ('base': conda)"
        },
        "interpreter": {
            "hash": "1e4665b4a9e7d2abe72c0a6f6252b8111ce0fc94853c6546d0ec98578145a517"
        }
    },
    "nbformat": 4,
    "nbformat_minor": 2
}